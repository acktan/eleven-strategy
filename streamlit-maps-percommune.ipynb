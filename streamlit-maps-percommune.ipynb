{
  "cells": [
    {
      "cell_type": "code",
      "execution_count": 1,
      "metadata": {
        "id": "7uftyaaysYSu"
      },
      "outputs": [],
      "source": [
        "# /content/communes-dile-de-france-au-01-janvier.shp\n",
        "# /content/communes-dile-de-france-au-01-janvier.shx"
      ]
    },
    {
      "cell_type": "code",
      "execution_count": 1,
      "metadata": {
        "colab": {
          "base_uri": "https://localhost:8080/"
        },
        "id": "KwD8Rgk7HCk_",
        "outputId": "a2aea60f-ea33-4daa-dfc8-b9a90a669d4e"
      },
      "outputs": [
        {
          "name": "stdout",
          "output_type": "stream",
          "text": [
            "Collecting streamlit-folium\n",
            "  Downloading streamlit_folium-0.11.0-py3-none-any.whl (423 kB)\n",
            "Requirement already satisfied: folium>=0.13 in c:\\users\\ckunt\\anaconda3\\envs\\tf\\lib\\site-packages (from streamlit-folium) (0.14.0)\n",
            "Requirement already satisfied: branca in c:\\users\\ckunt\\anaconda3\\envs\\tf\\lib\\site-packages (from streamlit-folium) (0.6.0)\n",
            "Requirement already satisfied: streamlit>=1.2 in c:\\users\\ckunt\\anaconda3\\envs\\tf\\lib\\site-packages (from streamlit-folium) (1.15.1)\n",
            "Requirement already satisfied: jinja2 in c:\\users\\ckunt\\anaconda3\\envs\\tf\\lib\\site-packages (from streamlit-folium) (3.0.3)\n",
            "Requirement already satisfied: numpy in c:\\users\\ckunt\\anaconda3\\envs\\tf\\lib\\site-packages (from folium>=0.13->streamlit-folium) (1.22.3)\n",
            "Requirement already satisfied: requests in c:\\users\\ckunt\\anaconda3\\envs\\tf\\lib\\site-packages (from folium>=0.13->streamlit-folium) (2.27.1)\n",
            "Requirement already satisfied: MarkupSafe>=2.0 in c:\\users\\ckunt\\anaconda3\\envs\\tf\\lib\\site-packages (from jinja2->streamlit-folium) (2.0.1)\n",
            "Requirement already satisfied: blinker>=1.0.0 in c:\\users\\ckunt\\anaconda3\\envs\\tf\\lib\\site-packages (from streamlit>=1.2->streamlit-folium) (1.4)\n",
            "Requirement already satisfied: protobuf<4,>=3.12 in c:\\users\\ckunt\\appdata\\roaming\\python\\python39\\site-packages (from streamlit>=1.2->streamlit-folium) (3.19.4)\n",
            "Requirement already satisfied: pympler>=0.9 in c:\\users\\ckunt\\anaconda3\\envs\\tf\\lib\\site-packages (from streamlit>=1.2->streamlit-folium) (1.0.1)\n",
            "Requirement already satisfied: typing-extensions>=3.10.0.0 in c:\\users\\ckunt\\anaconda3\\envs\\tf\\lib\\site-packages (from streamlit>=1.2->streamlit-folium) (4.1.1)\n",
            "Requirement already satisfied: altair>=3.2.0 in c:\\users\\ckunt\\anaconda3\\envs\\tf\\lib\\site-packages (from streamlit>=1.2->streamlit-folium) (4.2.0)\n",
            "Requirement already satisfied: pyarrow>=4.0 in c:\\users\\ckunt\\anaconda3\\envs\\tf\\lib\\site-packages (from streamlit>=1.2->streamlit-folium) (10.0.1)\n",
            "Requirement already satisfied: pydeck>=0.1.dev5 in c:\\users\\ckunt\\anaconda3\\envs\\tf\\lib\\site-packages (from streamlit>=1.2->streamlit-folium) (0.8.0)\n",
            "Requirement already satisfied: validators>=0.2 in c:\\users\\ckunt\\anaconda3\\envs\\tf\\lib\\site-packages (from streamlit>=1.2->streamlit-folium) (0.20.0)\n",
            "Requirement already satisfied: gitpython!=3.1.19 in c:\\users\\ckunt\\anaconda3\\envs\\tf\\lib\\site-packages (from streamlit>=1.2->streamlit-folium) (3.1.29)\n",
            "Requirement already satisfied: watchdog in c:\\users\\ckunt\\anaconda3\\envs\\tf\\lib\\site-packages (from streamlit>=1.2->streamlit-folium) (2.1.9)\n",
            "Requirement already satisfied: pandas>=0.21.0 in c:\\users\\ckunt\\anaconda3\\envs\\tf\\lib\\site-packages (from streamlit>=1.2->streamlit-folium) (1.4.2)\n",
            "Requirement already satisfied: tornado>=5.0 in c:\\users\\ckunt\\anaconda3\\envs\\tf\\lib\\site-packages (from streamlit>=1.2->streamlit-folium) (6.1)\n",
            "Requirement already satisfied: pillow>=6.2.0 in c:\\users\\ckunt\\anaconda3\\envs\\tf\\lib\\site-packages (from streamlit>=1.2->streamlit-folium) (9.1.1)\n",
            "Requirement already satisfied: semver in c:\\users\\ckunt\\anaconda3\\envs\\tf\\lib\\site-packages (from streamlit>=1.2->streamlit-folium) (2.13.0)\n",
            "Requirement already satisfied: click>=7.0 in c:\\users\\ckunt\\anaconda3\\envs\\tf\\lib\\site-packages (from streamlit>=1.2->streamlit-folium) (8.0.4)\n",
            "Requirement already satisfied: packaging>=14.1 in c:\\users\\ckunt\\anaconda3\\envs\\tf\\lib\\site-packages (from streamlit>=1.2->streamlit-folium) (21.3)\n",
            "Requirement already satisfied: python-dateutil in c:\\users\\ckunt\\anaconda3\\envs\\tf\\lib\\site-packages (from streamlit>=1.2->streamlit-folium) (2.8.2)\n",
            "Requirement already satisfied: importlib-metadata>=1.4 in c:\\users\\ckunt\\anaconda3\\envs\\tf\\lib\\site-packages (from streamlit>=1.2->streamlit-folium) (4.11.3)\n",
            "Requirement already satisfied: toml in c:\\users\\ckunt\\anaconda3\\envs\\tf\\lib\\site-packages (from streamlit>=1.2->streamlit-folium) (0.10.2)\n",
            "Requirement already satisfied: rich>=10.11.0 in c:\\users\\ckunt\\anaconda3\\envs\\tf\\lib\\site-packages (from streamlit>=1.2->streamlit-folium) (12.6.0)\n",
            "Requirement already satisfied: tzlocal>=1.1 in c:\\users\\ckunt\\anaconda3\\envs\\tf\\lib\\site-packages (from streamlit>=1.2->streamlit-folium) (4.2)\n",
            "Requirement already satisfied: cachetools>=4.0 in c:\\users\\ckunt\\appdata\\roaming\\python\\python39\\site-packages (from streamlit>=1.2->streamlit-folium) (5.0.0)\n",
            "Requirement already satisfied: entrypoints in c:\\users\\ckunt\\anaconda3\\envs\\tf\\lib\\site-packages (from altair>=3.2.0->streamlit>=1.2->streamlit-folium) (0.4)\n",
            "Requirement already satisfied: toolz in c:\\users\\ckunt\\anaconda3\\envs\\tf\\lib\\site-packages (from altair>=3.2.0->streamlit>=1.2->streamlit-folium) (0.12.0)\n",
            "Requirement already satisfied: jsonschema>=3.0 in c:\\users\\ckunt\\anaconda3\\envs\\tf\\lib\\site-packages (from altair>=3.2.0->streamlit>=1.2->streamlit-folium) (4.4.0)\n",
            "Requirement already satisfied: colorama in c:\\users\\ckunt\\anaconda3\\envs\\tf\\lib\\site-packages (from click>=7.0->streamlit>=1.2->streamlit-folium) (0.4.5)\n",
            "Requirement already satisfied: gitdb<5,>=4.0.1 in c:\\users\\ckunt\\anaconda3\\envs\\tf\\lib\\site-packages (from gitpython!=3.1.19->streamlit>=1.2->streamlit-folium) (4.0.10)\n",
            "Requirement already satisfied: smmap<6,>=3.0.1 in c:\\users\\ckunt\\anaconda3\\envs\\tf\\lib\\site-packages (from gitdb<5,>=4.0.1->gitpython!=3.1.19->streamlit>=1.2->streamlit-folium) (5.0.0)\n",
            "Requirement already satisfied: zipp>=0.5 in c:\\users\\ckunt\\anaconda3\\envs\\tf\\lib\\site-packages (from importlib-metadata>=1.4->streamlit>=1.2->streamlit-folium) (3.8.0)\n",
            "Requirement already satisfied: attrs>=17.4.0 in c:\\users\\ckunt\\anaconda3\\envs\\tf\\lib\\site-packages (from jsonschema>=3.0->altair>=3.2.0->streamlit>=1.2->streamlit-folium) (21.4.0)\n",
            "Requirement already satisfied: pyrsistent!=0.17.0,!=0.17.1,!=0.17.2,>=0.14.0 in c:\\users\\ckunt\\anaconda3\\envs\\tf\\lib\\site-packages (from jsonschema>=3.0->altair>=3.2.0->streamlit>=1.2->streamlit-folium) (0.18.0)\n",
            "Requirement already satisfied: pyparsing!=3.0.5,>=2.0.2 in c:\\users\\ckunt\\anaconda3\\envs\\tf\\lib\\site-packages (from packaging>=14.1->streamlit>=1.2->streamlit-folium) (3.0.4)\n",
            "Requirement already satisfied: pytz>=2020.1 in c:\\users\\ckunt\\anaconda3\\envs\\tf\\lib\\site-packages (from pandas>=0.21.0->streamlit>=1.2->streamlit-folium) (2021.3)\n",
            "Requirement already satisfied: six>=1.5 in c:\\users\\ckunt\\anaconda3\\envs\\tf\\lib\\site-packages (from python-dateutil->streamlit>=1.2->streamlit-folium) (1.16.0)\n",
            "Requirement already satisfied: certifi>=2017.4.17 in c:\\users\\ckunt\\anaconda3\\envs\\tf\\lib\\site-packages (from requests->folium>=0.13->streamlit-folium) (2022.6.15)\n",
            "Requirement already satisfied: urllib3<1.27,>=1.21.1 in c:\\users\\ckunt\\anaconda3\\envs\\tf\\lib\\site-packages (from requests->folium>=0.13->streamlit-folium) (1.26.9)\n",
            "Requirement already satisfied: charset-normalizer~=2.0.0 in c:\\users\\ckunt\\anaconda3\\envs\\tf\\lib\\site-packages (from requests->folium>=0.13->streamlit-folium) (2.0.4)\n",
            "Requirement already satisfied: idna<4,>=2.5 in c:\\users\\ckunt\\anaconda3\\envs\\tf\\lib\\site-packages (from requests->folium>=0.13->streamlit-folium) (3.3)\n",
            "Requirement already satisfied: commonmark<0.10.0,>=0.9.0 in c:\\users\\ckunt\\anaconda3\\envs\\tf\\lib\\site-packages (from rich>=10.11.0->streamlit>=1.2->streamlit-folium) (0.9.1)\n",
            "Requirement already satisfied: pygments<3.0.0,>=2.6.0 in c:\\users\\ckunt\\anaconda3\\envs\\tf\\lib\\site-packages (from rich>=10.11.0->streamlit>=1.2->streamlit-folium) (2.11.2)\n",
            "Requirement already satisfied: tzdata in c:\\users\\ckunt\\anaconda3\\envs\\tf\\lib\\site-packages (from tzlocal>=1.1->streamlit>=1.2->streamlit-folium) (2022.6)\n",
            "Requirement already satisfied: pytz-deprecation-shim in c:\\users\\ckunt\\anaconda3\\envs\\tf\\lib\\site-packages (from tzlocal>=1.1->streamlit>=1.2->streamlit-folium) (0.1.0.post0)\n",
            "Requirement already satisfied: decorator>=3.4.0 in c:\\users\\ckunt\\anaconda3\\envs\\tf\\lib\\site-packages (from validators>=0.2->streamlit>=1.2->streamlit-folium) (4.4.2)\n",
            "Installing collected packages: streamlit-folium\n",
            "Successfully installed streamlit-folium-0.11.0\n"
          ]
        }
      ],
      "source": [
        "!pip install streamlit-folium"
      ]
    },
    {
      "cell_type": "code",
      "execution_count": 3,
      "metadata": {
        "colab": {
          "base_uri": "https://localhost:8080/"
        },
        "id": "qq2-QEHLHOKg",
        "outputId": "27e328cb-6497-4808-928f-93ce98f610a6"
      },
      "outputs": [
        {
          "name": "stdout",
          "output_type": "stream",
          "text": [
            "Looking in indexes: https://pypi.org/simple, https://us-python.pkg.dev/colab-wheels/public/simple/\n",
            "Requirement already satisfied: geopandas in /usr/local/lib/python3.8/dist-packages (0.12.2)\n",
            "Requirement already satisfied: packaging in /usr/local/lib/python3.8/dist-packages (from geopandas) (21.3)\n",
            "Requirement already satisfied: pandas>=1.0.0 in /usr/local/lib/python3.8/dist-packages (from geopandas) (1.3.5)\n",
            "Requirement already satisfied: pyproj>=2.6.1.post1 in /usr/local/lib/python3.8/dist-packages (from geopandas) (3.4.1)\n",
            "Requirement already satisfied: shapely>=1.7 in /usr/local/lib/python3.8/dist-packages (from geopandas) (2.0.0)\n",
            "Requirement already satisfied: fiona>=1.8 in /usr/local/lib/python3.8/dist-packages (from geopandas) (1.9.0)\n",
            "Requirement already satisfied: click~=8.0 in /usr/local/lib/python3.8/dist-packages (from fiona>=1.8->geopandas) (8.1.3)\n",
            "Requirement already satisfied: certifi in /usr/local/lib/python3.8/dist-packages (from fiona>=1.8->geopandas) (2022.12.7)\n",
            "Requirement already satisfied: click-plugins>=1.0 in /usr/local/lib/python3.8/dist-packages (from fiona>=1.8->geopandas) (1.1.1)\n",
            "Requirement already satisfied: munch>=2.3.2 in /usr/local/lib/python3.8/dist-packages (from fiona>=1.8->geopandas) (2.5.0)\n",
            "Requirement already satisfied: cligj>=0.5 in /usr/local/lib/python3.8/dist-packages (from fiona>=1.8->geopandas) (0.7.2)\n",
            "Requirement already satisfied: attrs>=19.2.0 in /usr/local/lib/python3.8/dist-packages (from fiona>=1.8->geopandas) (22.2.0)\n",
            "Requirement already satisfied: python-dateutil>=2.7.3 in /usr/local/lib/python3.8/dist-packages (from pandas>=1.0.0->geopandas) (2.8.2)\n",
            "Requirement already satisfied: pytz>=2017.3 in /usr/local/lib/python3.8/dist-packages (from pandas>=1.0.0->geopandas) (2022.7)\n",
            "Requirement already satisfied: numpy>=1.17.3 in /usr/local/lib/python3.8/dist-packages (from pandas>=1.0.0->geopandas) (1.21.6)\n",
            "Requirement already satisfied: pyparsing!=3.0.5,>=2.0.2 in /usr/local/lib/python3.8/dist-packages (from packaging->geopandas) (3.0.9)\n",
            "Requirement already satisfied: six in /usr/local/lib/python3.8/dist-packages (from munch>=2.3.2->fiona>=1.8->geopandas) (1.15.0)\n"
          ]
        }
      ],
      "source": [
        "!pip install geopandas"
      ]
    },
    {
      "cell_type": "code",
      "execution_count": 2,
      "metadata": {
        "colab": {
          "base_uri": "https://localhost:8080/"
        },
        "id": "PfSj8hY_pcaO",
        "outputId": "e3803c1f-cf32-474f-89e2-78cb6cc9cc8d"
      },
      "outputs": [
        {
          "name": "stdout",
          "output_type": "stream",
          "text": [
            "Requirement already satisfied: streamlit in c:\\users\\ckunt\\anaconda3\\envs\\tf\\lib\\site-packages (1.15.1)\n",
            "Requirement already satisfied: pyarrow>=4.0 in c:\\users\\ckunt\\anaconda3\\envs\\tf\\lib\\site-packages (from streamlit) (10.0.1)\n",
            "Requirement already satisfied: pillow>=6.2.0 in c:\\users\\ckunt\\anaconda3\\envs\\tf\\lib\\site-packages (from streamlit) (9.1.1)\n",
            "Requirement already satisfied: typing-extensions>=3.10.0.0 in c:\\users\\ckunt\\anaconda3\\envs\\tf\\lib\\site-packages (from streamlit) (4.1.1)\n",
            "Requirement already satisfied: pympler>=0.9 in c:\\users\\ckunt\\anaconda3\\envs\\tf\\lib\\site-packages (from streamlit) (1.0.1)\n",
            "Requirement already satisfied: pydeck>=0.1.dev5 in c:\\users\\ckunt\\anaconda3\\envs\\tf\\lib\\site-packages (from streamlit) (0.8.0)\n",
            "Requirement already satisfied: tornado>=5.0 in c:\\users\\ckunt\\anaconda3\\envs\\tf\\lib\\site-packages (from streamlit) (6.1)\n",
            "Requirement already satisfied: gitpython!=3.1.19 in c:\\users\\ckunt\\anaconda3\\envs\\tf\\lib\\site-packages (from streamlit) (3.1.29)\n",
            "Requirement already satisfied: watchdog in c:\\users\\ckunt\\anaconda3\\envs\\tf\\lib\\site-packages (from streamlit) (2.1.9)\n",
            "Requirement already satisfied: python-dateutil in c:\\users\\ckunt\\anaconda3\\envs\\tf\\lib\\site-packages (from streamlit) (2.8.2)\n",
            "Requirement already satisfied: packaging>=14.1 in c:\\users\\ckunt\\anaconda3\\envs\\tf\\lib\\site-packages (from streamlit) (21.3)\n",
            "Requirement already satisfied: semver in c:\\users\\ckunt\\anaconda3\\envs\\tf\\lib\\site-packages (from streamlit) (2.13.0)\n",
            "Requirement already satisfied: cachetools>=4.0 in c:\\users\\ckunt\\appdata\\roaming\\python\\python39\\site-packages (from streamlit) (5.0.0)\n",
            "Requirement already satisfied: pandas>=0.21.0 in c:\\users\\ckunt\\anaconda3\\envs\\tf\\lib\\site-packages (from streamlit) (1.4.2)\n",
            "Requirement already satisfied: rich>=10.11.0 in c:\\users\\ckunt\\anaconda3\\envs\\tf\\lib\\site-packages (from streamlit) (12.6.0)\n",
            "Requirement already satisfied: protobuf<4,>=3.12 in c:\\users\\ckunt\\appdata\\roaming\\python\\python39\\site-packages (from streamlit) (3.19.4)\n",
            "Requirement already satisfied: numpy in c:\\users\\ckunt\\anaconda3\\envs\\tf\\lib\\site-packages (from streamlit) (1.22.3)\n",
            "Requirement already satisfied: blinker>=1.0.0 in c:\\users\\ckunt\\anaconda3\\envs\\tf\\lib\\site-packages (from streamlit) (1.4)\n",
            "Requirement already satisfied: click>=7.0 in c:\\users\\ckunt\\anaconda3\\envs\\tf\\lib\\site-packages (from streamlit) (8.0.4)\n",
            "Requirement already satisfied: importlib-metadata>=1.4 in c:\\users\\ckunt\\anaconda3\\envs\\tf\\lib\\site-packages (from streamlit) (4.11.3)\n",
            "Requirement already satisfied: requests>=2.4 in c:\\users\\ckunt\\anaconda3\\envs\\tf\\lib\\site-packages (from streamlit) (2.27.1)\n",
            "Requirement already satisfied: altair>=3.2.0 in c:\\users\\ckunt\\anaconda3\\envs\\tf\\lib\\site-packages (from streamlit) (4.2.0)\n",
            "Requirement already satisfied: tzlocal>=1.1 in c:\\users\\ckunt\\anaconda3\\envs\\tf\\lib\\site-packages (from streamlit) (4.2)\n",
            "Requirement already satisfied: validators>=0.2 in c:\\users\\ckunt\\anaconda3\\envs\\tf\\lib\\site-packages (from streamlit) (0.20.0)\n",
            "Requirement already satisfied: toml in c:\\users\\ckunt\\anaconda3\\envs\\tf\\lib\\site-packages (from streamlit) (0.10.2)\n",
            "Requirement already satisfied: entrypoints in c:\\users\\ckunt\\anaconda3\\envs\\tf\\lib\\site-packages (from altair>=3.2.0->streamlit) (0.4)\n",
            "Requirement already satisfied: toolz in c:\\users\\ckunt\\anaconda3\\envs\\tf\\lib\\site-packages (from altair>=3.2.0->streamlit) (0.12.0)\n",
            "Requirement already satisfied: jsonschema>=3.0 in c:\\users\\ckunt\\anaconda3\\envs\\tf\\lib\\site-packages (from altair>=3.2.0->streamlit) (4.4.0)\n",
            "Requirement already satisfied: jinja2 in c:\\users\\ckunt\\anaconda3\\envs\\tf\\lib\\site-packages (from altair>=3.2.0->streamlit) (3.0.3)\n",
            "Requirement already satisfied: colorama in c:\\users\\ckunt\\anaconda3\\envs\\tf\\lib\\site-packages (from click>=7.0->streamlit) (0.4.5)\n",
            "Requirement already satisfied: gitdb<5,>=4.0.1 in c:\\users\\ckunt\\anaconda3\\envs\\tf\\lib\\site-packages (from gitpython!=3.1.19->streamlit) (4.0.10)\n",
            "Requirement already satisfied: smmap<6,>=3.0.1 in c:\\users\\ckunt\\anaconda3\\envs\\tf\\lib\\site-packages (from gitdb<5,>=4.0.1->gitpython!=3.1.19->streamlit) (5.0.0)\n",
            "Requirement already satisfied: zipp>=0.5 in c:\\users\\ckunt\\anaconda3\\envs\\tf\\lib\\site-packages (from importlib-metadata>=1.4->streamlit) (3.8.0)\n",
            "Requirement already satisfied: attrs>=17.4.0 in c:\\users\\ckunt\\anaconda3\\envs\\tf\\lib\\site-packages (from jsonschema>=3.0->altair>=3.2.0->streamlit) (21.4.0)\n",
            "Requirement already satisfied: pyrsistent!=0.17.0,!=0.17.1,!=0.17.2,>=0.14.0 in c:\\users\\ckunt\\anaconda3\\envs\\tf\\lib\\site-packages (from jsonschema>=3.0->altair>=3.2.0->streamlit) (0.18.0)\n",
            "Requirement already satisfied: pyparsing!=3.0.5,>=2.0.2 in c:\\users\\ckunt\\anaconda3\\envs\\tf\\lib\\site-packages (from packaging>=14.1->streamlit) (3.0.4)\n",
            "Requirement already satisfied: pytz>=2020.1 in c:\\users\\ckunt\\anaconda3\\envs\\tf\\lib\\site-packages (from pandas>=0.21.0->streamlit) (2021.3)\n",
            "Requirement already satisfied: MarkupSafe>=2.0 in c:\\users\\ckunt\\anaconda3\\envs\\tf\\lib\\site-packages (from jinja2->altair>=3.2.0->streamlit) (2.0.1)\n",
            "Requirement already satisfied: six>=1.5 in c:\\users\\ckunt\\anaconda3\\envs\\tf\\lib\\site-packages (from python-dateutil->streamlit) (1.16.0)\n",
            "Requirement already satisfied: certifi>=2017.4.17 in c:\\users\\ckunt\\anaconda3\\envs\\tf\\lib\\site-packages (from requests>=2.4->streamlit) (2022.6.15)\n",
            "Requirement already satisfied: urllib3<1.27,>=1.21.1 in c:\\users\\ckunt\\anaconda3\\envs\\tf\\lib\\site-packages (from requests>=2.4->streamlit) (1.26.9)\n",
            "Requirement already satisfied: idna<4,>=2.5 in c:\\users\\ckunt\\anaconda3\\envs\\tf\\lib\\site-packages (from requests>=2.4->streamlit) (3.3)\n",
            "Requirement already satisfied: charset-normalizer~=2.0.0 in c:\\users\\ckunt\\anaconda3\\envs\\tf\\lib\\site-packages (from requests>=2.4->streamlit) (2.0.4)\n",
            "Requirement already satisfied: pygments<3.0.0,>=2.6.0 in c:\\users\\ckunt\\anaconda3\\envs\\tf\\lib\\site-packages (from rich>=10.11.0->streamlit) (2.11.2)\n",
            "Requirement already satisfied: commonmark<0.10.0,>=0.9.0 in c:\\users\\ckunt\\anaconda3\\envs\\tf\\lib\\site-packages (from rich>=10.11.0->streamlit) (0.9.1)\n",
            "Requirement already satisfied: tzdata in c:\\users\\ckunt\\anaconda3\\envs\\tf\\lib\\site-packages (from tzlocal>=1.1->streamlit) (2022.6)\n",
            "Requirement already satisfied: pytz-deprecation-shim in c:\\users\\ckunt\\anaconda3\\envs\\tf\\lib\\site-packages (from tzlocal>=1.1->streamlit) (0.1.0.post0)\n",
            "Requirement already satisfied: decorator>=3.4.0 in c:\\users\\ckunt\\anaconda3\\envs\\tf\\lib\\site-packages (from validators>=0.2->streamlit) (4.4.2)\n"
          ]
        }
      ],
      "source": [
        "!pip install streamlit"
      ]
    },
    {
      "cell_type": "code",
      "execution_count": 3,
      "metadata": {
        "colab": {
          "base_uri": "https://localhost:8080/"
        },
        "id": "WXIWZd5jppV0",
        "outputId": "631780df-c523-405b-e41e-0919ac11f525"
      },
      "outputs": [
        {
          "name": "stdout",
          "output_type": "stream",
          "text": [
            "Writing app.py\n"
          ]
        }
      ],
      "source": [
        "%%writefile app.py\n",
        "\n",
        "import streamlit as st\n",
        "import pandas as pd\n",
        "import numpy as np\n",
        "\n",
        "from shapely.geometry import Point, Polygon\n",
        "import geopandas as gpd\n",
        "import pandas as pd\n",
        "import geopy\n",
        "\n",
        "from geopy.geocoders import Nominatim\n",
        "from geopy.extra.rate_limiter import RateLimiter\n",
        "\n",
        "import matplotlib.pyplot as plt\n",
        "import os\n",
        "import ast\n",
        "import folium\n",
        "import branca.colormap as cm\n",
        "\n",
        "from streamlit_folium import st_folium\n",
        "\n",
        "\n",
        "csv_files = ['/content/mutations_d75_train_localized.csv',\n",
        "             '/content/mutations_d77_train_localized.csv',\n",
        "             '/content/mutations_d78_train_localized.csv',\n",
        "             '/content/mutations_d91_train_localized.csv',\n",
        "             '/content/mutations_d92_train_localized.csv',\n",
        "             '/content/mutations_d93_train_localized.csv',\n",
        "             '/content/mutations_d94_train_localized.csv',\n",
        "             '/content/mutations_d95_train_localized.csv'\n",
        "             ]\n",
        "\n",
        "def combine_clean_files(csv_files, explod = 'l_codinsee') -> pd.DataFrame:\n",
        "\n",
        "    \n",
        "    list_dfs = [pd.read_csv(f) for f in csv_files]\n",
        "    \n",
        "    df = pd.concat(list_dfs, ignore_index=True)\n",
        "    \n",
        "\n",
        "    l_cols = [col for col in df.columns if col.startswith('l_')]\n",
        "    df[l_cols] = df[l_cols].applymap(ast.literal_eval)\n",
        "    df = df.drop(columns=['Unnamed: 0.1', 'Unnamed: 0'])\n",
        "    \n",
        "    return df.explode(explod)\n",
        "\n",
        "\n",
        "df = combine_clean_files(csv_files)\n",
        "\n",
        "\n",
        "\n",
        "idf_reg = gpd.read_file('/content/communes-dile-de-france-au-01-janvier.shp')\n",
        "idf_reg['nomcom'] = idf_reg['nomcom'].str.encode('ISO-8859-1').str.decode('utf-8')\n",
        "def convert_to_point(row):\n",
        "    return Point(row[\"longitude\"], row[\"latitude\"])\n",
        "\n",
        "df[\"lat_long\"] = df.apply(convert_to_point, axis=1)\n",
        "\n",
        "\n",
        "df_points = gpd.GeoDataFrame(df, geometry=\"lat_long\")\n",
        "df_points.crs = {'init': 'epsg:4326'}\n",
        "idf_reg = gpd.GeoDataFrame(idf_reg, geometry='geometry')\n",
        "df_points = df_points.to_crs(idf_reg.crs)\n",
        "\n",
        "\n",
        "result = gpd.sjoin(idf_reg, df_points, how='inner', predicate='intersects')\n",
        "grouped = result.groupby('nomcom').median().reset_index()\n",
        "result = pd.merge(grouped[['nomcom', 'valeurfonc']], idf_reg[['nomcom', 'geometry']], how='left', on='nomcom')\n",
        "dept_geo = gpd.GeoDataFrame(idf_reg.set_index('numdep')['geometry'], geometry='geometry').dissolve(by='numdep', aggfunc='sum')\n",
        "\n",
        "m = folium.Map(location=[48.856614, 2.3522219],\n",
        "                    zoom_start = 10, tiles='cartodbpositron')\n",
        "\n",
        "colors = ['#00ae53', '#86dc76', '#daf8aa',\n",
        "            '#ffe6a4', '#ff9a61', '#ee0028']\n",
        "values = np.linspace(result['valeurfonc'].min(), result['valeurfonc'].max(), num=7)\n",
        "rounded_vals = np.around(values / 100_000) * 100_000\n",
        "\n",
        "colormap_dept = cm.StepColormap(\n",
        "    \n",
        "    colors=colors,\n",
        "    vmin=min(result['valeurfonc']),\n",
        "    vmax=max(result['valeurfonc']),\n",
        "    index=rounded_vals)\n",
        "\n",
        "style_function = lambda x: {\n",
        "    'fillColor': colormap_dept(x['properties']['valeurfonc']),\n",
        "    'color': '',\n",
        "    'weight': 0.0001,\n",
        "    'fillOpacity': 0.6\n",
        "}\n",
        "\n",
        "folium.GeoJson(\n",
        "    dept_geo,\n",
        "    style_function = lambda x: {\n",
        "        'color': 'black',\n",
        "        'weight': 2.5,\n",
        "        'fillOpacity': 0\n",
        "    },\n",
        "    name='Departement').add_to(m)\n",
        "\n",
        "\n",
        "\n",
        "title_html = \"\"\"\n",
        "<div id='maplegend' class='maplegend' \n",
        "    style='position: absolute; z-index:9999; border:0px; background-color:rgba(255, 255, 255, 0.8);\n",
        "     border-radius:6px; padding: 10px; font-size:25px; left: 0px; top: 0px;'>\n",
        "     \n",
        "<div class='legend-title'>Visualization of price of mutation per communes & arrondissements </div>\n",
        "<div class='legend-scale'><font size=\"3\">Per commune / Île-de-France / between 2014 and 2021</font></div>\n",
        "</div>\n",
        "\"\"\"\n",
        "\n",
        "legend_html = \"<div id='maplegend' class='maplegend' style='position: absolute; z-index:9999; border:2px solid grey; background-color:rgba(255, 255, 255, 0.8); border-radius:6px; padding: 10px; font-size:14px; right: 20px; top: 20px;'>\"\n",
        "legend_html += \"<div class='legend-title'>Valeur fonciere</div>\"\n",
        "legend_html += \"<div class='legend-scale'>\"\n",
        "legend_html += \"<ul class='legend-labels'>\"\n",
        "legend_html += \"<li><span style='background:{0};opacity:0.7;'></span> < {1}k € </li>\".format(colors[0], int(rounded_vals[1]/1000))\n",
        "for i in range(1, len(values) - 2):\n",
        "    legend_html += \"<li><span style='background:{0};opacity:0.7;'></span>{1}k € - {2}k €</li>\".format(colors[i], int(rounded_vals[i]/1000), int(rounded_vals[i+1]/1000))\n",
        "legend_html += \"<li><span style='background:{0};opacity:0.7;'></span> > {1}k € </li>\".format(colors[i+1], int(rounded_vals[i+1]/1000))\n",
        "legend_html += \"\"\"</ul>\n",
        "</div>\n",
        "</div>\n",
        "<style type='text/css'>\n",
        "  .maplegend .legend-title {\n",
        "    text-align: left;\n",
        "    margin-bottom: 5px;\n",
        "    font-weight: bold;\n",
        "    font-size: 90%;\n",
        "    }\n",
        "  .maplegend .legend-scale ul {\n",
        "    margin: 0;\n",
        "    margin-bottom: 5px;\n",
        "    padding: 0;\n",
        "    float: left;\n",
        "    list-style: none;\n",
        "    }\n",
        "  .maplegend .legend-scale ul li {\n",
        "    font-size: 80%;\n",
        "    list-style: none;\n",
        "    margin-left: 0;\n",
        "    line-height: 18px;\n",
        "    margin-bottom: 2px;\n",
        "    }\n",
        "  .maplegend ul.legend-labels li span {\n",
        "    display: block;\n",
        "    float: left;\n",
        "    height: 16px;\n",
        "    width: 30px;\n",
        "    margin-right: 5px;\n",
        "    margin-left: 0;\n",
        "    border: 1px solid #999;\n",
        "    }\n",
        "  .maplegend .legend-source {\n",
        "    font-size: 80%;\n",
        "    color: #777;\n",
        "    clear: both;\n",
        "    }\n",
        "  .maplegend a {\n",
        "    color: #777;\n",
        "    }\n",
        "</style>\"\"\"\n",
        "\n",
        "m.get_root().html.add_child(folium.Element(title_html))\n",
        "m.get_root().html.add_child(folium.Element(legend_html))\n",
        "\n",
        "folium.GeoJson(\n",
        "    gpd.GeoDataFrame(result),\n",
        "    style_function=style_function,\n",
        "    tooltip=folium.GeoJsonTooltip(\n",
        "        fields=['nomcom', 'valeurfonc'],\n",
        "        aliases=['Commune/Arrondisement', 'Valeur fonciere'],\n",
        "        localize=False\n",
        "    ),\n",
        "    name='Community').add_to(m)\n",
        "\n",
        "with st.container():\n",
        "    st.subheader(\"Hello! We are Group 5:\")\n",
        "    st.title(\"The Right Price - data commercial proposal with Eleven\")\n",
        "    st.write(\n",
        "        \" bla bla\"\n",
        "    )\n",
        "    \n",
        "\n",
        "with st.container():\n",
        "    st.write(\"---\")\n",
        "    left_column, right_column = st.columns(2)\n",
        "    with left_column:\n",
        "        st.header(\"Try it yourself\")\n",
        "        st.write(\"##\")\n",
        "        st.write(\n",
        "            \"\"\"\n",
        "            we truly believe that being the potential client a real estate developer willing to understand the market today, we can differentiate our selves focusing on allowing them to make profit so\n",
        "            Focus on under/overvaluation\n",
        "            Under/overvaluation is the result of 2 factors : an estimation of the price at time T, and the possibility to resell in the future (taking into account things such as RE growth rate, macro economic indicators, societal trends, financial indicators)] \n",
        "            \"\"\"\n",
        "        )\n",
        "\n",
        "\n",
        "    with right_column:\n",
        "        st.header(\"Map\")\n",
        "        st.write(\"these are some of the mutations\")\n",
        "\n",
        "        address = st.number_input('Insert a number')\n",
        "        st.write('The current number is ', address)\n",
        "\n",
        "\n",
        "        df = pd.DataFrame(\n",
        "            np.random.randn(100, 2) / [40, 40] + [48.86, 2.35],\n",
        "            columns=['lat', 'lon'])\n",
        "\n",
        "        st.map(df)\n",
        "\n",
        "    #kun's heatmap\n",
        "    with st.container():\n",
        "        st.header(\"Heatmap of value of different zones\")\n",
        "        st.write('The heatmap illustrates the magnitude of the value in money terms of the areas')\n",
        "        map_heat = st_folium(m, width=724) \n",
        "        \n",
        "\n",
        "\n",
        "    with st.container():\n",
        "        st.header(\"Please input on the side bar the location you want to inspect\")\n",
        "        st.write('you will get a detailed report of the caracteristic of the mutations in the area around it')\n",
        "\n",
        "        # default cafe de flore, saint germain de pres\n",
        "\n",
        "        street = st.sidebar.text_input(\"Street\", \"172 Bd Saint-Germain\")\n",
        "        city = st.sidebar.text_input(\"City\", \"Paris\")\n",
        "        province = st.sidebar.text_input(\"Province\", \"Ile de france\")\n",
        "        country = st.sidebar.text_input(\"Country\", \"France\")\n",
        "\n",
        "        geolocator = Nominatim(user_agent=\"GTA Lookup\")\n",
        "        geocode = RateLimiter(geolocator.geocode, min_delay_seconds=1)\n",
        "        location = geolocator.geocode(street+\", \"+city+\", \"+province+\", \"+country)\n",
        "\n",
        "        lat = location.latitude\n",
        "        lon = location.longitude\n",
        "\n",
        "        map_data = pd.DataFrame({'lat': [lat], 'lon': [lon]})\n",
        "\n",
        "        st.map(map_data) "
      ]
    },
    {
      "cell_type": "code",
      "execution_count": 4,
      "metadata": {
        "colab": {
          "base_uri": "https://localhost:8080/"
        },
        "id": "lM__V8KIs_k7",
        "outputId": "8686e2fd-9b29-4871-9bf2-acd7ae889019"
      },
      "outputs": [
        {
          "name": "stderr",
          "output_type": "stream",
          "text": [
            "'npm' is not recognized as an internal or external command,\n",
            "operable program or batch file.\n"
          ]
        },
        {
          "name": "stdout",
          "output_type": "stream",
          "text": [
            "Collecting pyngrok\n",
            "  Downloading pyngrok-5.2.1.tar.gz (761 kB)\n",
            "Requirement already satisfied: PyYAML in c:\\users\\ckunt\\anaconda3\\envs\\tf\\lib\\site-packages (from pyngrok) (6.0)\n",
            "Building wheels for collected packages: pyngrok\n",
            "  Building wheel for pyngrok (setup.py): started\n",
            "  Building wheel for pyngrok (setup.py): finished with status 'done'\n",
            "  Created wheel for pyngrok: filename=pyngrok-5.2.1-py3-none-any.whl size=19796 sha256=d7fa971df573cee132a26b932518a2b4ad2889ed2780494ef3905a84c230260e\n",
            "  Stored in directory: c:\\users\\ckunt\\appdata\\local\\pip\\cache\\wheels\\f6\\89\\59\\49d4249e00957e94813ac136a335d10ed2e09a856c5096f95c\n",
            "Successfully built pyngrok\n",
            "Installing collected packages: pyngrok\n",
            "Successfully installed pyngrok-5.2.1\n"
          ]
        }
      ],
      "source": [
        "!npm install localtunnel\n",
        "!pip install pyngrok"
      ]
    },
    {
      "cell_type": "code",
      "execution_count": 5,
      "metadata": {
        "id": "bxPF0QCm0cIf"
      },
      "outputs": [],
      "source": [
        "from pyngrok import ngrok"
      ]
    },
    {
      "cell_type": "code",
      "execution_count": 6,
      "metadata": {
        "colab": {
          "base_uri": "https://localhost:8080/"
        },
        "id": "U5Nnth2C08PM",
        "outputId": "a8e772dd-594c-401c-9f06-89a660b1b39a"
      },
      "outputs": [
        {
          "ename": "OSError",
          "evalue": "Background processes not supported.",
          "output_type": "error",
          "traceback": [
            "\u001b[1;31m---------------------------------------------------------------------------\u001b[0m",
            "\u001b[1;31mOSError\u001b[0m                                   Traceback (most recent call last)",
            "\u001b[1;32mc:\\Users\\ckunt\\Downloads\\web_app_eleven_consulting_V2.ipynb Cell 8\u001b[0m in \u001b[0;36m<cell line: 1>\u001b[1;34m()\u001b[0m\n\u001b[1;32m----> <a href='vscode-notebook-cell:/c%3A/Users/ckunt/Downloads/web_app_eleven_consulting_V2.ipynb#ch0000007?line=0'>1</a>\u001b[0m get_ipython()\u001b[39m.\u001b[39;49msystem(\u001b[39m'\u001b[39;49m\u001b[39mnohup streamlit run app.py &\u001b[39;49m\u001b[39m'\u001b[39;49m)\n\u001b[0;32m      <a href='vscode-notebook-cell:/c%3A/Users/ckunt/Downloads/web_app_eleven_consulting_V2.ipynb#ch0000007?line=1'>2</a>\u001b[0m url \u001b[39m=\u001b[39m ngrok\u001b[39m.\u001b[39mconnect(port \u001b[39m=\u001b[39m \u001b[39m'\u001b[39m\u001b[39m8501\u001b[39m\u001b[39m'\u001b[39m)\n",
            "File \u001b[1;32mc:\\Users\\ckunt\\anaconda3\\envs\\tf\\lib\\site-packages\\ipykernel\\zmqshell.py:621\u001b[0m, in \u001b[0;36mZMQInteractiveShell.system_piped\u001b[1;34m(self, cmd)\u001b[0m\n\u001b[0;32m    606\u001b[0m \u001b[39m\"\"\"Call the given cmd in a subprocess, piping stdout/err\u001b[39;00m\n\u001b[0;32m    607\u001b[0m \n\u001b[0;32m    608\u001b[0m \u001b[39mParameters\u001b[39;00m\n\u001b[1;32m   (...)\u001b[0m\n\u001b[0;32m    613\u001b[0m \u001b[39m    other than simple text.\u001b[39;00m\n\u001b[0;32m    614\u001b[0m \u001b[39m\"\"\"\u001b[39;00m\n\u001b[0;32m    615\u001b[0m \u001b[39mif\u001b[39;00m cmd\u001b[39m.\u001b[39mrstrip()\u001b[39m.\u001b[39mendswith(\u001b[39m'\u001b[39m\u001b[39m&\u001b[39m\u001b[39m'\u001b[39m):\n\u001b[0;32m    616\u001b[0m     \u001b[39m# this is *far* from a rigorous test\u001b[39;00m\n\u001b[0;32m    617\u001b[0m     \u001b[39m# We do not support backgrounding processes because we either use\u001b[39;00m\n\u001b[0;32m    618\u001b[0m     \u001b[39m# pexpect or pipes to read from.  Users can always just call\u001b[39;00m\n\u001b[0;32m    619\u001b[0m     \u001b[39m# os.system() or use ip.system=ip.system_raw\u001b[39;00m\n\u001b[0;32m    620\u001b[0m     \u001b[39m# if they really want a background process.\u001b[39;00m\n\u001b[1;32m--> 621\u001b[0m     \u001b[39mraise\u001b[39;00m \u001b[39mOSError\u001b[39;00m(\u001b[39m\"\u001b[39m\u001b[39mBackground processes not supported.\u001b[39m\u001b[39m\"\u001b[39m)\n\u001b[0;32m    623\u001b[0m \u001b[39m# we explicitly do NOT return the subprocess status code, because\u001b[39;00m\n\u001b[0;32m    624\u001b[0m \u001b[39m# a non-None value would trigger :func:`sys.displayhook` calls.\u001b[39;00m\n\u001b[0;32m    625\u001b[0m \u001b[39m# Instead, we store the exit_code in user_ns.\u001b[39;00m\n\u001b[0;32m    626\u001b[0m \u001b[39m# Also, protect system call from UNC paths on Windows here too\u001b[39;00m\n\u001b[0;32m    627\u001b[0m \u001b[39m# as is done in InteractiveShell.system_raw\u001b[39;00m\n\u001b[0;32m    628\u001b[0m \u001b[39mif\u001b[39;00m sys\u001b[39m.\u001b[39mplatform \u001b[39m==\u001b[39m \u001b[39m'\u001b[39m\u001b[39mwin32\u001b[39m\u001b[39m'\u001b[39m:\n",
            "\u001b[1;31mOSError\u001b[0m: Background processes not supported."
          ]
        }
      ],
      "source": [
        "!nohup streamlit run app.py &\n",
        "url = ngrok.connect(port = '8501')\n",
        "#print(url)"
      ]
    },
    {
      "cell_type": "code",
      "execution_count": 7,
      "metadata": {
        "colab": {
          "base_uri": "https://localhost:8080/"
        },
        "id": "PB1VgFPx1PYp",
        "outputId": "40a45611-9952-4921-bf59-d238b33943bf"
      },
      "outputs": [
        {
          "name": "stdout",
          "output_type": "stream",
          "text": [
            "^C\n"
          ]
        }
      ],
      "source": [
        "!streamlit run app.py & npx localtunnel --port 8501"
      ]
    },
    {
      "cell_type": "code",
      "execution_count": 19,
      "metadata": {
        "id": "UfxETEY0qONY"
      },
      "outputs": [],
      "source": []
    },
    {
      "cell_type": "code",
      "execution_count": 9,
      "metadata": {
        "id": "4dZG_tJBtwai"
      },
      "outputs": [],
      "source": []
    },
    {
      "cell_type": "code",
      "execution_count": 9,
      "metadata": {
        "id": "0YppxpJ0tw0z"
      },
      "outputs": [],
      "source": []
    },
    {
      "cell_type": "code",
      "execution_count": 9,
      "metadata": {
        "id": "PC5aaA_gtf4I"
      },
      "outputs": [],
      "source": []
    }
  ],
  "metadata": {
    "colab": {
      "provenance": []
    },
    "kernelspec": {
      "display_name": "Python 3.9.12 ('tf')",
      "language": "python",
      "name": "python3"
    },
    "language_info": {
      "codemirror_mode": {
        "name": "ipython",
        "version": 3
      },
      "file_extension": ".py",
      "mimetype": "text/x-python",
      "name": "python",
      "nbconvert_exporter": "python",
      "pygments_lexer": "ipython3",
      "version": "3.9.12"
    },
    "vscode": {
      "interpreter": {
        "hash": "e7a4fc9e61938f9d0b945869175d5c6980822e997f9c2beaa1391f5f32871236"
      }
    }
  },
  "nbformat": 4,
  "nbformat_minor": 0
}
