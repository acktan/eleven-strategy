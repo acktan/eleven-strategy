{
 "cells": [
  {
   "cell_type": "code",
   "execution_count": 7,
   "metadata": {},
   "outputs": [],
   "source": [
    "import pandas as pd\n",
    "import numpy as np\n",
    "import matplotlib.pyplot as plt\n",
    "import os\n",
    "import ast\n",
    "\n",
    "os.chdir(r\"C:\\Users\\ckunt\\OneDrive\\Documents\\Masters work\\HEC\\18. Eleven Strategy\\eleven-strategy\\data\")\n",
    "\n",
    "csv_files = ['mutations_d75_train_localized.csv',\n",
    "             'mutations_d77_train_localized.csv',\n",
    "             'mutations_d78_train_localized.csv',\n",
    "             'mutations_d91_train_localized.csv',\n",
    "             'mutations_d92_train_localized.csv',\n",
    "             'mutations_d93_train_localized.csv',\n",
    "             'mutations_d94_train_localized.csv',\n",
    "             'mutations_d95_train_localized.csv',\n",
    "             ]\n",
    "\n",
    "def combine_clean_files(csv_files: list) -> pd.DataFrame:\n",
    "    \"\"\"Combine csv files\n",
    "    \n",
    "    Args:\n",
    "        csv_files: list of csv file names\n",
    "        \n",
    "    Returns:\n",
    "        df: dataframe with combined dataframes\n",
    "    \"\"\"\n",
    "    \n",
    "    print('Getting dfs...')\n",
    "    list_dfs = [pd.read_csv(f) for f in csv_files]\n",
    "    \n",
    "    print('Combining dfs...')\n",
    "    df = pd.concat(list_dfs, ignore_index=True)\n",
    "    \n",
    "    # clean list columns\n",
    "    print('Cleaning dfs')\n",
    "    l_cols = [col for col in df.columns if col.startswith('l_')]\n",
    "    df[l_cols] = df[l_cols].applymap(ast.literal_eval)\n",
    "    \n",
    "    return df\n"
   ]
  },
  {
   "cell_type": "code",
   "execution_count": 8,
   "metadata": {},
   "outputs": [
    {
     "name": "stdout",
     "output_type": "stream",
     "text": [
      "Getting dfs...\n",
      "Combining dfs...\n",
      "Cleaning dfs\n"
     ]
    }
   ],
   "source": [
    "df = combine_clean_files(csv_files)\n",
    "df = df.drop(columns=['Unnamed: 0.1', 'Unnamed: 0'])"
   ]
  },
  {
   "cell_type": "code",
   "execution_count": 9,
   "metadata": {},
   "outputs": [],
   "source": [
    "import folium\n",
    "import geopandas as gpd\n",
    "\n",
    "gdf = gpd.GeoDataFrame(df[['latitude', 'longitude', 'valeurfonc']], geometry=gpd.points_from_xy(df.longitude, df.latitude))"
   ]
  },
  {
   "cell_type": "code",
   "execution_count": 10,
   "metadata": {},
   "outputs": [
    {
     "data": {
      "text/html": [
       "<div>\n",
       "<style scoped>\n",
       "    .dataframe tbody tr th:only-of-type {\n",
       "        vertical-align: middle;\n",
       "    }\n",
       "\n",
       "    .dataframe tbody tr th {\n",
       "        vertical-align: top;\n",
       "    }\n",
       "\n",
       "    .dataframe thead th {\n",
       "        text-align: right;\n",
       "    }\n",
       "</style>\n",
       "<table border=\"1\" class=\"dataframe\">\n",
       "  <thead>\n",
       "    <tr style=\"text-align: right;\">\n",
       "      <th></th>\n",
       "      <th>latitude</th>\n",
       "      <th>longitude</th>\n",
       "      <th>valeurfonc</th>\n",
       "      <th>geometry</th>\n",
       "    </tr>\n",
       "  </thead>\n",
       "  <tbody>\n",
       "    <tr>\n",
       "      <th>0</th>\n",
       "      <td>48.868229</td>\n",
       "      <td>2.347402</td>\n",
       "      <td>650340.0</td>\n",
       "      <td>POINT (2.34740 48.86823)</td>\n",
       "    </tr>\n",
       "    <tr>\n",
       "      <th>1</th>\n",
       "      <td>48.866863</td>\n",
       "      <td>2.374773</td>\n",
       "      <td>380000.0</td>\n",
       "      <td>POINT (2.37477 48.86686)</td>\n",
       "    </tr>\n",
       "    <tr>\n",
       "      <th>2</th>\n",
       "      <td>48.866879</td>\n",
       "      <td>2.369324</td>\n",
       "      <td>105000.0</td>\n",
       "      <td>POINT (2.36932 48.86688)</td>\n",
       "    </tr>\n",
       "    <tr>\n",
       "      <th>3</th>\n",
       "      <td>48.856434</td>\n",
       "      <td>2.357901</td>\n",
       "      <td>415000.0</td>\n",
       "      <td>POINT (2.35790 48.85643)</td>\n",
       "    </tr>\n",
       "    <tr>\n",
       "      <th>4</th>\n",
       "      <td>48.873301</td>\n",
       "      <td>2.303682</td>\n",
       "      <td>90000.0</td>\n",
       "      <td>POINT (2.30368 48.87330)</td>\n",
       "    </tr>\n",
       "    <tr>\n",
       "      <th>...</th>\n",
       "      <td>...</td>\n",
       "      <td>...</td>\n",
       "      <td>...</td>\n",
       "      <td>...</td>\n",
       "    </tr>\n",
       "    <tr>\n",
       "      <th>1271563</th>\n",
       "      <td>48.988613</td>\n",
       "      <td>2.446155</td>\n",
       "      <td>NaN</td>\n",
       "      <td>POINT (2.44615 48.98861)</td>\n",
       "    </tr>\n",
       "    <tr>\n",
       "      <th>1271564</th>\n",
       "      <td>48.996113</td>\n",
       "      <td>2.157786</td>\n",
       "      <td>515000.0</td>\n",
       "      <td>POINT (2.15779 48.99611)</td>\n",
       "    </tr>\n",
       "    <tr>\n",
       "      <th>1271565</th>\n",
       "      <td>49.006953</td>\n",
       "      <td>2.202177</td>\n",
       "      <td>260000.0</td>\n",
       "      <td>POINT (2.20218 49.00695)</td>\n",
       "    </tr>\n",
       "    <tr>\n",
       "      <th>1271566</th>\n",
       "      <td>48.969885</td>\n",
       "      <td>2.295289</td>\n",
       "      <td>750000.0</td>\n",
       "      <td>POINT (2.29529 48.96988)</td>\n",
       "    </tr>\n",
       "    <tr>\n",
       "      <th>1271567</th>\n",
       "      <td>48.997156</td>\n",
       "      <td>2.259248</td>\n",
       "      <td>290000.0</td>\n",
       "      <td>POINT (2.25925 48.99716)</td>\n",
       "    </tr>\n",
       "  </tbody>\n",
       "</table>\n",
       "<p>1271568 rows × 4 columns</p>\n",
       "</div>"
      ],
      "text/plain": [
       "          latitude  longitude  valeurfonc                  geometry\n",
       "0        48.868229   2.347402    650340.0  POINT (2.34740 48.86823)\n",
       "1        48.866863   2.374773    380000.0  POINT (2.37477 48.86686)\n",
       "2        48.866879   2.369324    105000.0  POINT (2.36932 48.86688)\n",
       "3        48.856434   2.357901    415000.0  POINT (2.35790 48.85643)\n",
       "4        48.873301   2.303682     90000.0  POINT (2.30368 48.87330)\n",
       "...            ...        ...         ...                       ...\n",
       "1271563  48.988613   2.446155         NaN  POINT (2.44615 48.98861)\n",
       "1271564  48.996113   2.157786    515000.0  POINT (2.15779 48.99611)\n",
       "1271565  49.006953   2.202177    260000.0  POINT (2.20218 49.00695)\n",
       "1271566  48.969885   2.295289    750000.0  POINT (2.29529 48.96988)\n",
       "1271567  48.997156   2.259248    290000.0  POINT (2.25925 48.99716)\n",
       "\n",
       "[1271568 rows x 4 columns]"
      ]
     },
     "execution_count": 10,
     "metadata": {},
     "output_type": "execute_result"
    }
   ],
   "source": [
    "gdf"
   ]
  },
  {
   "cell_type": "code",
   "execution_count": 18,
   "metadata": {},
   "outputs": [],
   "source": [
    "mean_lat = gdf['latitude'].mean()\n",
    "mean_lon = gdf['longitude'].mean()\n",
    "m = folium.Map(location=[mean_lat, mean_lon], zoom_start=11)\n",
    "\n",
    "folium.Marker(gdf[['geometry', 'valeurfonc']].values, weight='valeurfonc',\n",
    "                       max_zoom=13, radius=10).add_to(m)\n",
    "\n",
    "m"
   ]
  },
  {
   "cell_type": "code",
   "execution_count": null,
   "metadata": {},
   "outputs": [],
   "source": []
  }
 ],
 "metadata": {
  "kernelspec": {
   "display_name": "Python 3.9.12 ('tf')",
   "language": "python",
   "name": "python3"
  },
  "language_info": {
   "codemirror_mode": {
    "name": "ipython",
    "version": 3
   },
   "file_extension": ".py",
   "mimetype": "text/x-python",
   "name": "python",
   "nbconvert_exporter": "python",
   "pygments_lexer": "ipython3",
   "version": "3.9.12"
  },
  "orig_nbformat": 4,
  "vscode": {
   "interpreter": {
    "hash": "e7a4fc9e61938f9d0b945869175d5c6980822e997f9c2beaa1391f5f32871236"
   }
  }
 },
 "nbformat": 4,
 "nbformat_minor": 2
}
